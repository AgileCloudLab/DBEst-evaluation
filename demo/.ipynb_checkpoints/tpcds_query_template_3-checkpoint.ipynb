{
 "cells": [
  {
   "cell_type": "markdown",
   "id": "unauthorized-pontiac",
   "metadata": {},
   "source": [
    "## For TPC-DS dataset with the following query tempalte:\n",
    "SELECT ss_store_sk, AF(ss_sales_price)\n",
    "\n",
    "FROM store_sales\n",
    "\n",
    "WHERE ss_sold_date_sk BETWEEN low AND high\n",
    "\n",
    "AND ss_coupon_amt=0\n",
    "\n",
    "GROUP BY ss_store_sk"
   ]
  },
  {
   "cell_type": "code",
   "execution_count": 1,
   "id": "secondary-amino",
   "metadata": {},
   "outputs": [],
   "source": [
    "from dbestclient.executor.executor import SqlExecutor"
   ]
  },
  {
   "cell_type": "markdown",
   "id": "secondary-breach",
   "metadata": {},
   "source": [
    "## Parameter Initialization"
   ]
  },
  {
   "cell_type": "code",
   "execution_count": 2,
   "id": "numeric-collect",
   "metadata": {},
   "outputs": [
    {
     "name": "stdout",
     "output_type": "stream",
     "text": [
      "Local mode is on, as no slaves are provided.\n",
      "start loading pre-existing models.\n",
      "Loaded 1 models. time cost  0.004136 s\n",
      "OK, csv_split_char is updated.\n",
      "OK, encoder is updated.\n",
      "OK, n_epoch is updated.\n",
      "OK, table_header is updated.\n"
     ]
    }
   ],
   "source": [
    "sqlExecutor = SqlExecutor()\n",
    "sqlExecutor.execute(\"set csv_split_char='|'\")\n",
    "sqlExecutor.execute(\"set encoder='embedding'\")\n",
    "sqlExecutor.execute(\"set n_epoch=20\")\n",
    "sqlExecutor.execute(\n",
    "    \"set table_header=\"\n",
    "    + \"'ss_sold_date_sk|ss_sold_time_sk|ss_item_sk|ss_customer_sk|ss_cdemo_sk|ss_hdemo_sk|\"\n",
    "    + \"ss_addr_sk|ss_store_sk|ss_promo_sk|ss_ticket_number|ss_quantity|ss_wholesale_cost|\"\n",
    "    + \"ss_list_price|ss_sales_price|ss_ext_discount_amt|ss_ext_sales_price|\"\n",
    "    + \"ss_ext_wholesale_cost|ss_ext_list_price|ss_ext_tax|ss_coupon_amt|ss_net_paid|\"\n",
    "    + \"ss_net_paid_inc_tax|ss_net_profit|none'\"\n",
    ")"
   ]
  },
  {
   "cell_type": "markdown",
   "id": "increased-lancaster",
   "metadata": {},
   "source": [
    "## Model Creation"
   ]
  },
  {
   "cell_type": "code",
   "execution_count": null,
   "id": "elder-corporation",
   "metadata": {},
   "outputs": [
    {
     "name": "stdout",
     "output_type": "stream",
     "text": [
      "Model does not exist!\n",
      "Start creating model template1\n",
      "The given table is treated as a uniform sample, and it is obtained with sampling rate 0.000695\n",
      "Reading data file...\n"
     ]
    }
   ],
   "source": [
    "# sqlExecutor.execute(\"drop table template1\")  # drop the model\n",
    "sqlExecutor.execute(\n",
    "    \"create table template1(ss_sales_price real, ss_sold_date_sk real) from '/home/quincy/Documents/workspace/data/tpcds/100g/ss_100g_2m.csv' GROUP BY ss_store_sk method uniform size 0.000695\"\n",
    ")"
   ]
  },
  {
   "cell_type": "markdown",
   "id": "referenced-fiction",
   "metadata": {},
   "source": [
    "## Query Serving"
   ]
  },
  {
   "cell_type": "code",
   "execution_count": null,
   "id": "authorized-drive",
   "metadata": {},
   "outputs": [],
   "source": [
    "predictions = sqlExecutor.execute(\n",
    "            \"select ss_store_sk, avg(ss_sales_price)  from template1 where   2451119  <=ss_sold_date_sk<= 2451483  group by ss_store_sk\"\n",
    "        )\n",
    "\n",
    "# sqlExecutor.execute(\"drop table template1\")"
   ]
  },
  {
   "cell_type": "markdown",
   "id": "funded-spice",
   "metadata": {},
   "source": [
    "## HIVE query\n",
    "select ss_store_sk, count(ss_sales_price),sum(ss_sales_price),avg(ss_sales_price)  from store_sales_1t where  ss_sold_date_sk BETWEEN 2451119  AND 2451483  group by ss_store_sk"
   ]
  }
 ],
 "metadata": {
  "kernelspec": {
   "display_name": "Python 3",
   "language": "python",
   "name": "python3"
  },
  "language_info": {
   "codemirror_mode": {
    "name": "ipython",
    "version": 3
   },
   "file_extension": ".py",
   "mimetype": "text/x-python",
   "name": "python",
   "nbconvert_exporter": "python",
   "pygments_lexer": "ipython3",
   "version": "3.7.9"
  }
 },
 "nbformat": 4,
 "nbformat_minor": 5
}
