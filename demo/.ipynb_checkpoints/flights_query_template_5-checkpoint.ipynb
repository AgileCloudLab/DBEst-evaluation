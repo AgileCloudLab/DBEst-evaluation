{
 "cells": [
  {
   "cell_type": "markdown",
   "id": "graphic-harvey",
   "metadata": {},
   "source": [
    "## For Flights dataset with the following query tempalte:\n",
    "SELECT unique_carrier, AF(distance) \n",
    "\n",
    "FROM flights\n",
    "\n",
    "WHERE dep_delay BETWEEN 1000 AND 1200 \n",
    "\n",
    "AND origin_state_abr='LA'  \n",
    "\n",
    "GROUP BY unique_carrier"
   ]
  },
  {
   "cell_type": "code",
   "execution_count": 1,
   "id": "assumed-henry",
   "metadata": {},
   "outputs": [],
   "source": [
    "from dbestclient.executor.executor import SqlExecutor"
   ]
  },
  {
   "cell_type": "markdown",
   "id": "relevant-horse",
   "metadata": {},
   "source": [
    "## Parameter Initialization"
   ]
  },
  {
   "cell_type": "code",
   "execution_count": 2,
   "id": "hispanic-moderator",
   "metadata": {},
   "outputs": [
    {
     "name": "stdout",
     "output_type": "stream",
     "text": [
      "Local mode is on, as no slaves are provided.\n",
      "start loading pre-existing models.\n",
      "Loaded 1 models. time cost  0.004136 s\n",
      "OK, csv_split_char is updated.\n",
      "OK, encoder is updated.\n",
      "OK, n_epoch is updated.\n",
      "OK, table_header is updated.\n"
     ]
    }
   ],
   "source": [
    "sqlExecutor = SqlExecutor()\n",
    "sql_executor.execute(\"set n_mdn_layer_node_reg=10\")          # \n",
    "sql_executor.execute(\"set n_mdn_layer_node_density=15\")      # \n",
    "sql_executor.execute(\"set n_jobs=1\")                         # \n",
    "sql_executor.execute(\"set n_hidden_layer=1\")                 # \n",
    "sql_executor.execute(\"set n_epoch=20\")                       # \n",
    "sql_executor.execute(\"set n_gaussians_reg=8\")                # \n",
    "sql_executor.execute(\"set n_gaussians_density=10\")           # \n",
    "sql_executor.execute(\"set csv_split_char=','\")\n",
    "sql_executor.execute(\"set table_header=\" +\n",
    "                      \"'year_date,unique_carrier,origin,origin_state_abr,dest,dest_state_abr,dep_delay,taxi_out,taxi_in,arr_delay,air_time,distance'\")"
   ]
  },
  {
   "cell_type": "markdown",
   "id": "original-limitation",
   "metadata": {},
   "source": [
    "## Model Creation"
   ]
  },
  {
   "cell_type": "code",
   "execution_count": 1,
   "id": "respective-mechanism",
   "metadata": {},
   "outputs": [
    {
     "ename": "SyntaxError",
     "evalue": "invalid syntax (<ipython-input-1-e53aeabdfec3>, line 4)",
     "output_type": "error",
     "traceback": [
      "\u001b[0;36m  File \u001b[0;32m\"<ipython-input-1-e53aeabdfec3>\"\u001b[0;36m, line \u001b[0;32m4\u001b[0m\n\u001b[0;31m    )\u001b[0m\n\u001b[0m    ^\u001b[0m\n\u001b[0;31mSyntaxError\u001b[0m\u001b[0;31m:\u001b[0m invalid syntax\n"
     ]
    }
   ],
   "source": [
    "# sqlExecutor.execute(\"drop table template3\")  # drop the model\n",
    "sqlExecutor.execute(\n",
    "    \"create table template5(dep_delay real, distance real) from '/home/quincy/Documents/workspace/data/flights/flight_1m.csv' GROUP BY unique_carrier method uniform size 0.001 \") \n",
    ")"
   ]
  },
  {
   "cell_type": "markdown",
   "id": "collect-culture",
   "metadata": {},
   "source": [
    "## Query Serving"
   ]
  },
  {
   "cell_type": "code",
   "execution_count": null,
   "id": "traditional-penguin",
   "metadata": {},
   "outputs": [],
   "source": [
    "predictions = sqlExecutor.execute(\n",
    "            \"select ss_store_sk, avg(ss_sales_price)  from template5 where   2451119  <=ss_sold_date_sk<= 2451483  group by ss_store_sk,ss_coupon_amt\"\n",
    "        )\n",
    "\n",
    "# sqlExecutor.execute(\"drop table template5\")"
   ]
  },
  {
   "cell_type": "markdown",
   "id": "temporal-irrigation",
   "metadata": {},
   "source": [
    "## HIVE query\n",
    "SELECT unique_carrier, SUM(distance), AVG(distance)  FROM flights WHERE dep_delay BETWEEN 1000 AND 1200  AND origin_state_abr='LA'   GROUP BY unique_carrier"
   ]
  }
 ],
 "metadata": {
  "kernelspec": {
   "display_name": "Python 3",
   "language": "python",
   "name": "python3"
  },
  "language_info": {
   "codemirror_mode": {
    "name": "ipython",
    "version": 3
   },
   "file_extension": ".py",
   "mimetype": "text/x-python",
   "name": "python",
   "nbconvert_exporter": "python",
   "pygments_lexer": "ipython3",
   "version": "3.7.9"
  }
 },
 "nbformat": 4,
 "nbformat_minor": 5
}
