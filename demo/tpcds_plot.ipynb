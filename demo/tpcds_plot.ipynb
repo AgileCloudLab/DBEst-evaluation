{
 "cells": [
  {
   "cell_type": "code",
   "execution_count": 1,
   "id": "academic-scenario",
   "metadata": {},
   "outputs": [],
   "source": [
    "from dbestclient.executor.executor import SqlExecutor\n",
    "%matplotlib widget"
   ]
  },
  {
   "cell_type": "markdown",
   "id": "secret-pointer",
   "metadata": {},
   "source": [
    "## Parameter Initialization"
   ]
  },
  {
   "cell_type": "code",
   "execution_count": 2,
   "id": "adapted-naples",
   "metadata": {},
   "outputs": [
    {
     "name": "stdout",
     "output_type": "stream",
     "text": [
      "Local mode is on, as no slaves are provided.\n",
      "start loading pre-existing models.\n",
      "Loaded 6 models. time cost  0.279753 s\n",
      "OK, csv_split_char is updated.\n",
      "OK, encoder is updated.\n",
      "OK, n_epoch is updated.\n",
      "OK, table_header is updated.\n"
     ]
    }
   ],
   "source": [
    "sqlExecutor = SqlExecutor()\n",
    "sqlExecutor.execute(\"set csv_split_char='|'\")\n",
    "sqlExecutor.execute(\"set encoder='embedding'\")\n",
    "sqlExecutor.execute(\"set n_epoch=30\")\n",
    "sqlExecutor.execute(\n",
    "    \"set table_header=\"\n",
    "    + \"'ss_sold_date_sk|ss_sold_time_sk|ss_item_sk|ss_customer_sk|ss_cdemo_sk|ss_hdemo_sk|\"\n",
    "    + \"ss_addr_sk|ss_store_sk|ss_promo_sk|ss_ticket_number|ss_quantity|ss_wholesale_cost|\"\n",
    "    + \"ss_list_price|ss_sales_price|ss_ext_discount_amt|ss_ext_sales_price|\"\n",
    "    + \"ss_ext_wholesale_cost|ss_ext_list_price|ss_ext_tax|ss_coupon_amt|ss_net_paid|\"\n",
    "    + \"ss_net_paid_inc_tax|ss_net_profit|none'\"\n",
    ")"
   ]
  },
  {
   "cell_type": "markdown",
   "id": "enabling-resort",
   "metadata": {},
   "source": [
    "## Enable Plotting"
   ]
  },
  {
   "cell_type": "code",
   "execution_count": 3,
   "id": "fundamental-hartford",
   "metadata": {},
   "outputs": [
    {
     "name": "stdout",
     "output_type": "stream",
     "text": [
      "OK, plot is updated.\n"
     ]
    }
   ],
   "source": [
    "sqlExecutor.execute(\"set plot='True'\")"
   ]
  },
  {
   "cell_type": "markdown",
   "id": "worth-journalism",
   "metadata": {},
   "source": [
    "## Model Training"
   ]
  },
  {
   "cell_type": "code",
   "execution_count": 4,
   "id": "unsigned-baghdad",
   "metadata": {},
   "outputs": [
    {
     "name": "stdout",
     "output_type": "stream",
     "text": [
      "OK. model is dropped.\n",
      "Start creating model test_plot_range_no_equal_gb1\n",
      "Reading data file...\n",
      "get frequency info from data....\n",
      "Starting training kde models for model test_plot_range_no_equal_gb1\n",
      "training regression...\n",
      "********************************************************************************\n",
      "finish training embedding.\n",
      "embedding inference...\n",
      "start normalizing data...\n",
      "xpoints are saved.\n",
      "xpoints are saved.\n",
      "transform data from MDN training...\n",
      "finish transforming data from MDN training...\n",
      "< Epoch 0\n",
      "< Epoch 1\n",
      "< Epoch 2\n",
      "< Epoch 3\n",
      "< Epoch 4\n",
      "< Epoch 5\n",
      "< Epoch 6\n",
      "< Epoch 7\n",
      "< Epoch 8\n",
      "< Epoch 9\n",
      "< Epoch 10\n",
      "< Epoch 11\n",
      "< Epoch 12\n",
      "< Epoch 13\n",
      "< Epoch 14\n",
      "< Epoch 15\n",
      "< Epoch 16\n",
      "< Epoch 17\n",
      "< Epoch 18\n",
      "< Epoch 19\n",
      "< Epoch 20\n",
      "< Epoch 21\n",
      "< Epoch 22\n",
      "< Epoch 23\n",
      "< Epoch 24\n",
      "< Epoch 25\n",
      "< Epoch 26\n",
      "< Epoch 27\n",
      "< Epoch 28\n",
      "< Epoch 29\n",
      "Finish regression training.\n",
      "training density...\n",
      "********************************************************************************\n",
      "finish training embedding.\n",
      "< Epoch 0\n",
      "< Epoch 1\n",
      "< Epoch 2\n",
      "< Epoch 3\n",
      "< Epoch 4\n",
      "< Epoch 5\n",
      "< Epoch 6\n",
      "< Epoch 7\n",
      "< Epoch 8\n",
      "< Epoch 9\n",
      "< Epoch 10\n",
      "< Epoch 11\n",
      "< Epoch 12\n",
      "< Epoch 13\n",
      "< Epoch 14\n",
      "< Epoch 15\n",
      "< Epoch 16\n",
      "< Epoch 17\n",
      "< Epoch 18\n",
      "< Epoch 19\n",
      "< Epoch 20\n",
      "< Epoch 21\n",
      "< Epoch 22\n",
      "< Epoch 23\n",
      "< Epoch 24\n",
      "< Epoch 25\n",
      "< Epoch 26\n",
      "< Epoch 27\n",
      "< Epoch 28\n",
      "< Epoch 29\n",
      "finish mdn training...\n"
     ]
    },
    {
     "data": {
      "application/vnd.jupyter.widget-view+json": {
       "model_id": "08917035b7dd46f0aba7956db4edeeec",
       "version_major": 2,
       "version_minor": 0
      },
      "text/plain": [
       "Canvas(toolbar=Toolbar(toolitems=[('Home', 'Reset original view', 'home', 'home'), ('Back', 'Back to previous …"
      ]
     },
     "metadata": {},
     "output_type": "display_data"
    },
    {
     "data": {
      "application/vnd.jupyter.widget-view+json": {
       "model_id": "802256c97b5a4003a128d1a0006405cd",
       "version_major": 2,
       "version_minor": 0
      },
      "text/plain": [
       "Canvas(toolbar=Toolbar(toolitems=[('Home', 'Reset original view', 'home', 'home'), ('Back', 'Back to previous …"
      ]
     },
     "metadata": {},
     "output_type": "display_data"
    },
    {
     "name": "stdout",
     "output_type": "stream",
     "text": [
      "time cost: 15s.\n",
      "------------------------\n"
     ]
    }
   ],
   "source": [
    "sqlExecutor.execute(\"drop table test_plot_range_no_equal_gb1\")\n",
    "sqlExecutor.execute(\n",
    "    \"create table test_plot_range_no_equal_gb1(ss_sales_price real, ss_sold_date_sk real) from '/home/quincy/Documents/workspace/data/tpcds/100g/ss_100g_2m.csv' GROUP BY ss_store_sk method uniform size 20000\"\n",
    ")"
   ]
  },
  {
   "cell_type": "markdown",
   "id": "honey-columbus",
   "metadata": {},
   "source": [
    "##  Query Serving"
   ]
  },
  {
   "cell_type": "code",
   "execution_count": 5,
   "id": "racial-berkeley",
   "metadata": {
    "collapsed": true,
    "jupyter": {
     "outputs_hidden": true
    },
    "tags": []
   },
   "outputs": [
    {
     "name": "stdout",
     "output_type": "stream",
     "text": [
      "OK\n"
     ]
    },
    {
     "data": {
      "application/vnd.jupyter.widget-view+json": {
       "model_id": "957f5af3d0644a2b8f19295eaffeb854",
       "version_major": 2,
       "version_minor": 0
      },
      "text/plain": [
       "Canvas(toolbar=Toolbar(toolitems=[('Home', 'Reset original view', 'home', 'home'), ('Back', 'Back to previous …"
      ]
     },
     "metadata": {},
     "output_type": "display_data"
    },
    {
     "name": "stdout",
     "output_type": "stream",
     "text": [
      "  0             1\n",
      "    180620.777505\n",
      "  1  91757.970025\n",
      " 10  46889.881362\n",
      "100  62607.650038\n",
      "103  63492.157553\n",
      "104  65486.532255\n",
      "106  60906.629916\n",
      "109  77847.645751\n",
      "110  48156.080139\n",
      "112  98474.320354\n",
      "115  67175.528415\n",
      "116  80562.181634\n",
      "118  85519.991826\n",
      "121  70755.348914\n",
      "122  74934.146300\n",
      "124  69305.730063\n",
      "127  51446.950837\n",
      "128 107374.333640\n",
      " 13  48435.041741\n",
      "130  64613.369422\n",
      "133  87758.894123\n",
      "134  51481.936011\n",
      "136  70475.385004\n",
      "139  64492.136380\n",
      " 14  60856.052972\n",
      "140  47283.747931\n",
      "142  78898.973974\n",
      "145 105136.499601\n",
      "146  75000.647069\n",
      "148  73783.227621\n",
      "151  73963.084831\n",
      "152  67048.686806\n",
      "154  79486.871486\n",
      "157  51403.381373\n",
      "158  63476.004365\n",
      " 16 114752.910745\n",
      "160  62010.735235\n",
      "163  85420.272755\n",
      "164  62742.854073\n",
      "166  79782.612512\n",
      "169 107089.365158\n",
      "170  73059.727475\n",
      "172  50492.095253\n",
      "175  55623.876233\n",
      "176  68624.547609\n",
      "178  69368.191912\n",
      "181 110651.384596\n",
      "182  90516.581672\n",
      "184  91275.390960\n",
      "187 112508.609717\n",
      "188  71869.842260\n",
      " 19  30291.705332\n",
      "190  96865.047503\n",
      "193  45192.569263\n",
      "194  75910.500151\n",
      "196  80479.448758\n",
      "199  80396.176963\n",
      "  2  69082.495482\n",
      " 20  62963.775468\n",
      "200  65658.896698\n",
      "202  60156.657609\n",
      "205  72103.406629\n",
      "206  53043.607944\n",
      "208  91427.587678\n",
      "211  62545.123450\n",
      "212  65814.885816\n",
      "214  54420.831955\n",
      "217  49550.500945\n",
      "218 100022.428324\n",
      " 22  57977.902279\n",
      "220  56123.424819\n",
      "223  53865.695962\n",
      "224  71216.239657\n",
      "226  80789.201995\n",
      "229  66765.418458\n",
      "230 100799.761230\n",
      "232  70211.056063\n",
      "235  77230.984542\n",
      "236  98170.163381\n",
      "238  84381.700002\n",
      "241  61263.339473\n",
      "242  79770.296623\n",
      "244  72482.593433\n",
      "247  66158.873564\n",
      "248  71751.711429\n",
      " 25  97439.370217\n",
      "250  71213.172024\n",
      "253  95230.258088\n",
      "254  78522.397785\n",
      "256  71542.269709\n",
      "259  88241.288557\n",
      " 26  88065.942805\n",
      "260  73027.286838\n",
      "262 107957.613795\n",
      "265 114000.244249\n",
      "266  59758.958031\n",
      "268  94292.211131\n",
      "271  43832.014277\n",
      "272  85056.274939\n",
      "274  68536.968386\n",
      "277  60366.368034\n",
      "278  95637.172369\n",
      " 28  76362.285133\n",
      "280  82948.000493\n",
      "283  86295.052354\n",
      "284  68938.227000\n",
      "286  94780.601871\n",
      "289  92206.997703\n",
      "290 117540.257000\n",
      "292  98602.386790\n",
      "295  72778.999329\n",
      "296  49475.415659\n",
      "298  87930.203878\n",
      "301  73237.332759\n",
      "302  51881.319149\n",
      "304  47388.696758\n",
      "307 101438.488107\n",
      "308  53382.246162\n",
      " 31  59964.050829\n",
      "310  45286.303371\n",
      "313  84101.691102\n",
      "314  70213.908729\n",
      "316  51794.650645\n",
      "319  68727.689313\n",
      " 32  48019.160828\n",
      "320  90889.120999\n",
      "322  80295.056677\n",
      "325  81567.287203\n",
      "326  82638.552907\n",
      "328  83550.531326\n",
      "331  71436.899884\n",
      "332  81454.936501\n",
      "334  78593.055618\n",
      "337 106631.105648\n",
      "338  84839.408185\n",
      " 34  95173.907906\n",
      "340 111272.480488\n",
      "343  59560.807012\n",
      "344  74156.988720\n",
      "346  80974.473058\n",
      "349  73524.961431\n",
      "350  56003.186268\n",
      "352 118880.921681\n",
      "355  57103.268269\n",
      "356  72081.429715\n",
      "358  50471.967795\n",
      "361  86298.898277\n",
      "362  69232.808812\n",
      "364  69884.807823\n",
      "367  58646.367103\n",
      "368  63811.718471\n",
      " 37  68603.286189\n",
      "370  64763.749202\n",
      "373  58194.818041\n",
      "374  79293.068716\n",
      "376  61156.922668\n",
      "379  73940.310023\n",
      " 38  59979.347802\n",
      "380  81435.147048\n",
      "382  76172.835227\n",
      "385  69274.339389\n",
      "386  61322.143160\n",
      "388  78075.252926\n",
      "391  71146.225555\n",
      "392  63162.855589\n",
      "394  76924.092403\n",
      "397  63233.762219\n",
      "398  94312.492179\n",
      "  4  66183.775705\n",
      " 40  94373.457532\n",
      "400  47683.764826\n",
      " 43  80749.342665\n",
      " 44  58127.104246\n",
      " 46  97432.761167\n",
      " 49  85918.145666\n",
      " 50  85302.688882\n",
      " 52  56087.588664\n",
      " 55  72211.460857\n",
      " 56  47849.439017\n",
      " 58  51840.875585\n",
      " 61  41669.278753\n",
      " 62 102193.248978\n",
      " 64 110105.520320\n",
      " 67  66155.153807\n",
      " 68  82751.682133\n",
      "  7  72238.077719\n",
      " 70  66482.413102\n",
      " 73  54489.231927\n",
      " 74  75239.206344\n",
      " 76  69611.117516\n",
      " 79  53458.305657\n",
      "  8  60933.068905\n",
      " 80  82944.703713\n",
      " 82  52800.592394\n",
      " 85  64666.447058\n",
      " 86  82863.107284\n",
      " 88  63786.752763\n",
      " 91  58442.914142\n",
      " 92  55496.060821\n",
      " 94  73786.694177\n",
      " 97  65241.185326\n",
      " 98  68583.477212\n",
      "Time cost: 0.1318s.\n",
      "------------------------\n"
     ]
    }
   ],
   "source": [
    "# %matplotlib widget\n",
    "predictions = sqlExecutor.execute(\n",
    "            \"select ss_store_sk,sum(ss_sales_price)  from test_plot_range_no_equal_gb1 where   2451119  <=ss_sold_date_sk<= 2451483  group by ss_store_sk\"\n",
    "        )\n",
    "\n",
    "# sqlExecutor.execute(\"drop table test_plot_range_no_equal_gb1\")"
   ]
  },
  {
   "cell_type": "markdown",
   "id": "particular-estonia",
   "metadata": {},
   "source": [
    "## Terminal Cmd"
   ]
  },
  {
   "cell_type": "raw",
   "id": "graduate-level",
   "metadata": {},
   "source": [
    "drop table plot1;\n",
    "set csv_split_char='|';\n",
    "set encoder='embedding';\n",
    "set n_epoch=30;\n",
    "set plot='True';\n",
    "set table_header=\"ss_sold_date_sk|ss_sold_time_sk|ss_item_sk|ss_customer_sk|ss_cdemo_sk|ss_hdemo_sk|ss_addr_sk|ss_store_sk|ss_promo_sk|ss_ticket_number|ss_quantity|ss_wholesale_cost|ss_list_price|ss_sales_price|ss_ext_discount_amt|ss_ext_sales_price|ss_ext_wholesale_cost|ss_ext_list_price|ss_ext_tax|ss_coupon_amt|ss_net_paid|ss_net_paid_inc_tax|ss_net_profit|none\";\n",
    "create table plot1(ss_sales_price real, ss_sold_date_sk real) from '/home/quincy/Documents/workspace/data/tpcds/100g/ss_100g_2m.csv' GROUP BY ss_store_sk method uniform size 20000;\n",
    "select ss_store_sk,sum(ss_sales_price)  from plot1 where   2451119  <=ss_sold_date_sk<= 2451483  group by ss_store_sk;\n"
   ]
  }
 ],
 "metadata": {
  "kernelspec": {
   "display_name": "Python 3",
   "language": "python",
   "name": "python3"
  },
  "language_info": {
   "codemirror_mode": {
    "name": "ipython",
    "version": 3
   },
   "file_extension": ".py",
   "mimetype": "text/x-python",
   "name": "python",
   "nbconvert_exporter": "python",
   "pygments_lexer": "ipython3",
   "version": "3.7.9"
  }
 },
 "nbformat": 4,
 "nbformat_minor": 5
}
