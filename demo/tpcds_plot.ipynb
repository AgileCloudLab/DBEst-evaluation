{
 "cells": [
  {
   "cell_type": "code",
   "execution_count": 1,
   "id": "cathedral-bernard",
   "metadata": {},
   "outputs": [],
   "source": [
    "from dbestclient.executor.executor import SqlExecutor\n",
    "%matplotlib widget"
   ]
  },
  {
   "cell_type": "markdown",
   "id": "according-establishment",
   "metadata": {},
   "source": [
    "## Parameter Initialization"
   ]
  },
  {
   "cell_type": "code",
   "execution_count": 2,
   "id": "southeast-training",
   "metadata": {},
   "outputs": [
    {
     "name": "stdout",
     "output_type": "stream",
     "text": [
      "Local mode is on, as no slaves are provided.\n",
      "start loading pre-existing models.\n",
      "Loaded 2 models. time cost  0.004326 s\n",
      "OK, csv_split_char is updated.\n",
      "OK, encoder is updated.\n",
      "OK, n_epoch is updated.\n",
      "OK, table_header is updated.\n"
     ]
    }
   ],
   "source": [
    "sqlExecutor = SqlExecutor()\n",
    "sqlExecutor.execute(\"set csv_split_char='|'\")\n",
    "sqlExecutor.execute(\"set encoder='embedding'\")\n",
    "sqlExecutor.execute(\"set n_epoch=10\")\n",
    "sqlExecutor.execute(\n",
    "    \"set table_header=\"\n",
    "    + \"'ss_sold_date_sk|ss_sold_time_sk|ss_item_sk|ss_customer_sk|ss_cdemo_sk|ss_hdemo_sk|\"\n",
    "    + \"ss_addr_sk|ss_store_sk|ss_promo_sk|ss_ticket_number|ss_quantity|ss_wholesale_cost|\"\n",
    "    + \"ss_list_price|ss_sales_price|ss_ext_discount_amt|ss_ext_sales_price|\"\n",
    "    + \"ss_ext_wholesale_cost|ss_ext_list_price|ss_ext_tax|ss_coupon_amt|ss_net_paid|\"\n",
    "    + \"ss_net_paid_inc_tax|ss_net_profit|none'\"\n",
    ")"
   ]
  },
  {
   "cell_type": "markdown",
   "id": "single-hungarian",
   "metadata": {},
   "source": [
    "## Enable Plotting"
   ]
  },
  {
   "cell_type": "code",
   "execution_count": 3,
   "id": "super-courtesy",
   "metadata": {},
   "outputs": [
    {
     "name": "stdout",
     "output_type": "stream",
     "text": [
      "OK, plot is updated.\n"
     ]
    }
   ],
   "source": [
    "sqlExecutor.execute(\"set plot='True'\")"
   ]
  },
  {
   "cell_type": "markdown",
   "id": "widespread-burlington",
   "metadata": {},
   "source": [
    "## Model Training"
   ]
  },
  {
   "cell_type": "code",
   "execution_count": 4,
   "id": "potential-honor",
   "metadata": {},
   "outputs": [
    {
     "name": "stdout",
     "output_type": "stream",
     "text": [
      "OK. model is dropped.\n",
      "Start creating model test_plot_range_no_equal_gb1\n",
      "Reading data file...\n",
      "get frequency info from data....\n",
      "Starting training kde models for model test_plot_range_no_equal_gb1\n",
      "training regression...\n",
      "********************************************************************************\n",
      "finish training embedding.\n",
      "embedding inference...\n",
      "start normalizing data...\n",
      "transform data for MDN training...\n",
      "finish transforming data from MDN training...\n",
      "< Epoch 0\n",
      "< Epoch 1\n",
      "< Epoch 2\n",
      "< Epoch 3\n",
      "< Epoch 4\n",
      "< Epoch 5\n",
      "< Epoch 6\n",
      "< Epoch 7\n",
      "< Epoch 8\n",
      "< Epoch 9\n",
      "Finish regression training.\n",
      "training density...\n",
      "********************************************************************************\n",
      "finish training embedding.\n",
      "< Epoch 0\n",
      "< Epoch 1\n",
      "< Epoch 2\n",
      "< Epoch 3\n",
      "< Epoch 4\n",
      "< Epoch 5\n",
      "< Epoch 6\n",
      "< Epoch 7\n",
      "< Epoch 8\n",
      "< Epoch 9\n",
      "finish mdn training...\n"
     ]
    },
    {
     "data": {
      "application/vnd.jupyter.widget-view+json": {
       "model_id": "0c8200166d6d4cbbb0f25f9b28219bf5",
       "version_major": 2,
       "version_minor": 0
      },
      "text/plain": [
       "Canvas(toolbar=Toolbar(toolitems=[('Home', 'Reset original view', 'home', 'home'), ('Back', 'Back to previous …"
      ]
     },
     "metadata": {},
     "output_type": "display_data"
    },
    {
     "name": "stdout",
     "output_type": "stream",
     "text": [
      "time cost: 9s.\n",
      "------------------------\n"
     ]
    }
   ],
   "source": [
    "sqlExecutor.execute(\"drop table test_plot_range_no_equal_gb1\")\n",
    "sqlExecutor.execute(\n",
    "    \"create table test_plot_range_no_equal_gb1(ss_sales_price real, ss_sold_date_sk real) from '/home/quincy/Documents/workspace/data/tpcds/100g/ss_100g_2m.csv' GROUP BY ss_store_sk method uniform size 20000\"\n",
    ")"
   ]
  },
  {
   "cell_type": "markdown",
   "id": "gentle-accident",
   "metadata": {},
   "source": [
    "##  Query Serving"
   ]
  },
  {
   "cell_type": "code",
   "execution_count": 5,
   "id": "still-brazil",
   "metadata": {},
   "outputs": [
    {
     "name": "stdout",
     "output_type": "stream",
     "text": [
      "OK\n"
     ]
    },
    {
     "data": {
      "application/vnd.jupyter.widget-view+json": {
       "model_id": "c33c6afc6e514160b890febb3ccfb231",
       "version_major": 2,
       "version_minor": 0
      },
      "text/plain": [
       "Canvas(toolbar=Toolbar(toolitems=[('Home', 'Reset original view', 'home', 'home'), ('Back', 'Back to previous …"
      ]
     },
     "metadata": {},
     "output_type": "display_data"
    },
    {
     "name": "stdout",
     "output_type": "stream",
     "text": [
      "  0            1\n",
      "    3.032606e+07\n",
      "  1 1.266956e+07\n",
      " 10 1.334347e+07\n",
      "100 1.159130e+07\n",
      "103 1.307390e+07\n",
      "104 1.024347e+07\n",
      "106 1.239999e+07\n",
      "109 1.118695e+07\n",
      "110 1.428695e+07\n",
      "112 1.105217e+07\n",
      "115 1.037825e+07\n",
      "116 1.118695e+07\n",
      "118 1.293912e+07\n",
      "121 1.105217e+07\n",
      "122 1.078260e+07\n",
      "124 1.320869e+07\n",
      "127 1.320869e+07\n",
      "128 1.347825e+07\n",
      " 13 1.334347e+07\n",
      "130 1.347825e+07\n",
      "133 1.159130e+07\n",
      "134 1.105217e+07\n",
      "136 9.973905e+06\n",
      "139 1.226521e+07\n",
      " 14 1.199564e+07\n",
      "140 1.388260e+07\n",
      "142 1.064782e+07\n",
      "145 1.037825e+07\n",
      "146 1.293912e+07\n",
      "148 1.374782e+07\n",
      "151 1.239999e+07\n",
      "152 1.563477e+07\n",
      "154 1.280434e+07\n",
      "157 1.010869e+07\n",
      "158 1.469129e+07\n",
      " 16 1.374782e+07\n",
      "160 1.064782e+07\n",
      "163 1.091738e+07\n",
      "164 1.118695e+07\n",
      "166 1.186086e+07\n",
      "169 1.253477e+07\n",
      "170 1.415216e+07\n",
      "172 1.078260e+07\n",
      "175 1.091738e+07\n",
      "176 1.469129e+07\n",
      "178 1.280434e+07\n",
      "181 1.253477e+07\n",
      "182 1.388260e+07\n",
      "184 1.280434e+07\n",
      "187 1.347825e+07\n",
      "188 1.253477e+07\n",
      " 19 1.347825e+07\n",
      "190 1.239999e+07\n",
      "193 1.401738e+07\n",
      "194 1.280434e+07\n",
      "196 1.239999e+07\n",
      "199 1.132173e+07\n",
      "  2 1.347825e+07\n",
      " 20 1.145651e+07\n",
      "200 1.401738e+07\n",
      "202 1.266956e+07\n",
      "205 1.091738e+07\n",
      "206 1.280434e+07\n",
      "208 1.213043e+07\n",
      "211 1.307390e+07\n",
      "212 1.159130e+07\n",
      "214 1.361303e+07\n",
      "217 1.361303e+07\n",
      "218 1.091738e+07\n",
      " 22 1.293912e+07\n",
      "220 9.704340e+06\n",
      "223 1.293912e+07\n",
      "224 1.199564e+07\n",
      "226 1.280434e+07\n",
      "229 1.347825e+07\n",
      "230 1.159130e+07\n",
      "232 1.213043e+07\n",
      "235 1.293912e+07\n",
      "236 1.253477e+07\n",
      "238 1.213043e+07\n",
      "241 1.226521e+07\n",
      "242 1.213043e+07\n",
      "244 1.239999e+07\n",
      "247 1.078260e+07\n",
      "248 1.401738e+07\n",
      " 25 1.091738e+07\n",
      "250 1.280434e+07\n",
      "253 1.213043e+07\n",
      "254 1.347825e+07\n",
      "256 1.078260e+07\n",
      "259 1.132173e+07\n",
      " 26 1.253477e+07\n",
      "260 1.239999e+07\n",
      "262 1.159130e+07\n",
      "265 1.266956e+07\n",
      "266 1.374782e+07\n",
      "268 1.024347e+07\n",
      "271 1.536521e+07\n",
      "272 1.051304e+07\n",
      "274 1.159130e+07\n",
      "277 1.213043e+07\n",
      "278 1.213043e+07\n",
      " 28 1.037825e+07\n",
      "280 1.078260e+07\n",
      "283 1.307390e+07\n",
      "284 1.037825e+07\n",
      "286 1.280434e+07\n",
      "289 1.239999e+07\n",
      "290 1.199564e+07\n",
      "292 1.239999e+07\n",
      "295 1.428695e+07\n",
      "296 1.239999e+07\n",
      "298 1.159130e+07\n",
      "301 1.105217e+07\n",
      "302 1.118695e+07\n",
      "304 1.132173e+07\n",
      "307 1.091738e+07\n",
      "308 1.320869e+07\n",
      " 31 1.334347e+07\n",
      "310 1.051304e+07\n",
      "313 1.145651e+07\n",
      "314 1.213043e+07\n",
      "316 1.226521e+07\n",
      "319 1.199564e+07\n",
      " 32 1.064782e+07\n",
      "320 1.213043e+07\n",
      "322 1.213043e+07\n",
      "325 1.226521e+07\n",
      "326 9.973905e+06\n",
      "328 1.307390e+07\n",
      "331 1.280434e+07\n",
      "332 1.186086e+07\n",
      "334 1.253477e+07\n",
      "337 1.320869e+07\n",
      "338 1.132173e+07\n",
      " 34 1.293912e+07\n",
      "340 9.973905e+06\n",
      "343 1.213043e+07\n",
      "344 1.374782e+07\n",
      "346 1.172608e+07\n",
      "349 1.374782e+07\n",
      "350 1.307390e+07\n",
      "352 1.280434e+07\n",
      "355 1.159130e+07\n",
      "356 1.186086e+07\n",
      "358 1.078260e+07\n",
      "361 1.091738e+07\n",
      "362 1.455651e+07\n",
      "364 1.172608e+07\n",
      "367 1.239999e+07\n",
      "368 1.239999e+07\n",
      " 37 1.037825e+07\n",
      "370 1.374782e+07\n",
      "373 1.320869e+07\n",
      "374 1.010869e+07\n",
      "376 1.374782e+07\n",
      "379 1.374782e+07\n",
      " 38 1.361303e+07\n",
      "380 1.118695e+07\n",
      "382 1.388260e+07\n",
      "385 8.760863e+06\n",
      "386 1.199564e+07\n",
      "388 1.172608e+07\n",
      "391 1.253477e+07\n",
      "392 1.159130e+07\n",
      "394 1.266956e+07\n",
      "397 1.455651e+07\n",
      "398 1.307390e+07\n",
      "  4 1.388260e+07\n",
      " 40 1.159130e+07\n",
      "400 1.186086e+07\n",
      " 43 1.186086e+07\n",
      " 44 1.523042e+07\n",
      " 46 1.239999e+07\n",
      " 49 1.428695e+07\n",
      " 50 1.428695e+07\n",
      " 52 1.401738e+07\n",
      " 55 1.213043e+07\n",
      " 56 1.239999e+07\n",
      " 58 1.455651e+07\n",
      " 61 1.213043e+07\n",
      " 62 1.361303e+07\n",
      " 64 1.078260e+07\n",
      " 67 1.455651e+07\n",
      " 68 1.010869e+07\n",
      "  7 1.132173e+07\n",
      " 70 1.630868e+07\n",
      " 73 1.172608e+07\n",
      " 74 1.266956e+07\n",
      " 76 1.239999e+07\n",
      " 79 1.320869e+07\n",
      "  8 1.078260e+07\n",
      " 80 9.973905e+06\n",
      " 82 1.172608e+07\n",
      " 85 1.253477e+07\n",
      " 86 1.186086e+07\n",
      " 88 1.226521e+07\n",
      " 91 1.118695e+07\n",
      " 92 1.523042e+07\n",
      " 94 1.064782e+07\n",
      " 97 1.172608e+07\n",
      " 98 9.973905e+06\n",
      "Time cost: 0.1714s.\n",
      "------------------------\n"
     ]
    }
   ],
   "source": [
    "# %matplotlib widget\n",
    "predictions = sqlExecutor.execute(\n",
    "            \"select ss_store_sk,sum(ss_sales_price)  from test_plot_range_no_equal_gb1 where   2451119  <=ss_sold_date_sk<= 2451483  group by ss_store_sk\"\n",
    "        )\n",
    "\n",
    "# sqlExecutor.execute(\"drop table test_plot_range_no_equal_gb1\")"
   ]
  }
 ],
 "metadata": {
  "kernelspec": {
   "display_name": "Python 3",
   "language": "python",
   "name": "python3"
  },
  "language_info": {
   "codemirror_mode": {
    "name": "ipython",
    "version": 3
   },
   "file_extension": ".py",
   "mimetype": "text/x-python",
   "name": "python",
   "nbconvert_exporter": "python",
   "pygments_lexer": "ipython3",
   "version": "3.7.9"
  }
 },
 "nbformat": 4,
 "nbformat_minor": 5
}
