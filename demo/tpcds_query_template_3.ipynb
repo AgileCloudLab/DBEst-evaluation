{
 "cells": [
  {
   "cell_type": "markdown",
   "id": "entitled-juice",
   "metadata": {},
   "source": [
    "## For TPC-DS dataset with the following query tempalte:\n",
    "SELECT ss_store_sk,ss_coupon_amt, AF(ss_sales_price)\n",
    "\n",
    "FROM store_sales\n",
    "\n",
    "WHERE ss_sold_date_sk BETWEEN low AND high\n",
    "\n",
    "\n",
    "GROUP BY ss_store_sk,ss_quantity"
   ]
  },
  {
   "cell_type": "code",
   "execution_count": 1,
   "id": "trained-blues",
   "metadata": {},
   "outputs": [],
   "source": [
    "from dbestclient.executor.executor import SqlExecutor"
   ]
  },
  {
   "cell_type": "markdown",
   "id": "statistical-creator",
   "metadata": {},
   "source": [
    "## Parameter Initialization"
   ]
  },
  {
   "cell_type": "code",
   "execution_count": 2,
   "id": "mature-deficit",
   "metadata": {},
   "outputs": [
    {
     "name": "stdout",
     "output_type": "stream",
     "text": [
      "Local mode is on, as no slaves are provided.\n",
      "start loading pre-existing models.\n",
      "Loaded 1 models. time cost  0.004136 s\n",
      "OK, csv_split_char is updated.\n",
      "OK, encoder is updated.\n",
      "OK, n_epoch is updated.\n",
      "OK, table_header is updated.\n"
     ]
    }
   ],
   "source": [
    "sqlExecutor = SqlExecutor()\n",
    "sqlExecutor.execute(\"set csv_split_char='|'\")\n",
    "sqlExecutor.execute(\"set encoder='embedding'\")\n",
    "sqlExecutor.execute(\"set n_epoch=20\")\n",
    "sqlExecutor.execute(\"set n_mdn_layer_node_reg=50\")          \n",
    "sqlExecutor.execute(\"set n_mdn_layer_node_density=60\")      \n",
    "sqlExecutor.execute(\"set n_hidden_layer=1\")                       \n",
    "sqlExecutor.execute(\"set n_gaussians_reg=8\")                \n",
    "sqlExecutor.execute(\"set n_gaussians_density=12\")            \n",
    "sqlExecutor.execute(\"set n_embedding_dim=20\")\n",
    "sqlExecutor.execute(\n",
    "    \"set table_header=\"\n",
    "    + \"'ss_sold_date_sk|ss_sold_time_sk|ss_item_sk|ss_customer_sk|ss_cdemo_sk|ss_hdemo_sk|\"\n",
    "    + \"ss_addr_sk|ss_store_sk|ss_promo_sk|ss_ticket_number|ss_quantity|ss_wholesale_cost|\"\n",
    "    + \"ss_list_price|ss_sales_price|ss_ext_discount_amt|ss_ext_sales_price|\"\n",
    "    + \"ss_ext_wholesale_cost|ss_ext_list_price|ss_ext_tax|ss_coupon_amt|ss_net_paid|\"\n",
    "    + \"ss_net_paid_inc_tax|ss_net_profit|none'\"\n",
    ")"
   ]
  },
  {
   "cell_type": "markdown",
   "id": "honest-thriller",
   "metadata": {},
   "source": [
    "## Model Creation"
   ]
  },
  {
   "cell_type": "code",
   "execution_count": 1,
   "id": "willing-knife",
   "metadata": {},
   "outputs": [
    {
     "ename": "NameError",
     "evalue": "name 'sqlExecutor' is not defined",
     "output_type": "error",
     "traceback": [
      "\u001b[0;31m---------------------------------------------------------------------------\u001b[0m",
      "\u001b[0;31mNameError\u001b[0m                                 Traceback (most recent call last)",
      "\u001b[0;32m<ipython-input-1-1f609168ffaf>\u001b[0m in \u001b[0;36m<module>\u001b[0;34m\u001b[0m\n\u001b[1;32m      1\u001b[0m \u001b[0;31m# sqlExecutor.execute(\"drop table template3\")  # drop the model\u001b[0m\u001b[0;34m\u001b[0m\u001b[0;34m\u001b[0m\u001b[0;34m\u001b[0m\u001b[0m\n\u001b[0;32m----> 2\u001b[0;31m sqlExecutor.execute(\n\u001b[0m\u001b[1;32m      3\u001b[0m     \u001b[0;34m\"create table template3(ss_sales_price real, ss_sold_date_sk real) from '/home/quincy/Documents/workspace/data/tpcds/100g/ss_100g_2m.csv' GROUP BY ss_store_sk,ss_coupon_amt method uniform size 0.000695\"\u001b[0m\u001b[0;34m\u001b[0m\u001b[0;34m\u001b[0m\u001b[0m\n\u001b[1;32m      4\u001b[0m )\n",
      "\u001b[0;31mNameError\u001b[0m: name 'sqlExecutor' is not defined"
     ]
    }
   ],
   "source": [
    "# sqlExecutor.execute(\"drop table template3\")  # drop the model\n",
    "sqlExecutor.execute(\n",
    "    \"create table template3(ss_sales_price real, ss_sold_date_sk real)  from '/home/quincy/Documents/workspace/data/tpcds/1t/ss_1m.csv' GROUP BY ss_store_sk,ss_quantity method uniform size 0.0003472\"\n",
    ")"
   ]
  },
  {
   "cell_type": "markdown",
   "id": "complicated-stand",
   "metadata": {},
   "source": [
    "## Query Serving"
   ]
  },
  {
   "cell_type": "code",
   "execution_count": null,
   "id": "worthy-horizontal",
   "metadata": {},
   "outputs": [],
   "source": [
    "predictions = sqlExecutor.execute(\n",
    "            \"select ss_store_sk, avg(ss_sales_price)  from template3 where   2451119  <=ss_sold_date_sk<= 2451483  group by ss_store_sk,ss_quantity\"\n",
    "        )\n",
    "\n",
    "# sqlExecutor.execute(\"drop table template3\")"
   ]
  },
  {
   "cell_type": "markdown",
   "id": "responsible-spelling",
   "metadata": {},
   "source": [
    "## HIVE query\n",
    "select ss_store_sk, count(ss_sales_price),sum(ss_sales_price),avg(ss_sales_price)  from store_sales_1t where  ss_sold_date_sk BETWEEN 2451119  AND 2451483  group by ss_store_sk,ss_quantity"
   ]
  },
  {
   "cell_type": "raw",
   "id": "hidden-talent",
   "metadata": {},
   "source": [
    "Time Cost:"
   ]
  },
  {
   "cell_type": "raw",
   "id": "handmade-question",
   "metadata": {},
   "source": []
  }
 ],
 "metadata": {
  "kernelspec": {
   "display_name": "Python 3",
   "language": "python",
   "name": "python3"
  },
  "language_info": {
   "codemirror_mode": {
    "name": "ipython",
    "version": 3
   },
   "file_extension": ".py",
   "mimetype": "text/x-python",
   "name": "python",
   "nbconvert_exporter": "python",
   "pygments_lexer": "ipython3",
   "version": "3.7.9"
  }
 },
 "nbformat": 4,
 "nbformat_minor": 5
}
