{
 "cells": [
  {
   "cell_type": "markdown",
   "id": "representative-catalyst",
   "metadata": {},
   "source": [
    "## For TPC-DS dataset with the following query tempalte:\n",
    "SELECT ss_store_sk, AF(ss_sales_price)\n",
    "\n",
    "FROM store_sales\n",
    "\n",
    "WHERE ss_sold_date_sk BETWEEN low AND high\n",
    "\n",
    "AND ss_coupon_amt=0\n",
    "\n",
    "GROUP BY ss_store_sk"
   ]
  },
  {
   "cell_type": "code",
   "execution_count": 4,
   "id": "suffering-distance",
   "metadata": {},
   "outputs": [],
   "source": [
    "from dbestclient.executor.executor import SqlExecutor"
   ]
  },
  {
   "cell_type": "markdown",
   "id": "romance-scenario",
   "metadata": {},
   "source": [
    "## Parameter Initialization"
   ]
  },
  {
   "cell_type": "code",
   "execution_count": 5,
   "id": "limited-lincoln",
   "metadata": {},
   "outputs": [
    {
     "name": "stdout",
     "output_type": "stream",
     "text": [
      "Local mode is on, as no slaves are provided.\n",
      "start loading pre-existing models.\n",
      "Loaded 2 models. time cost  0.008768 s\n",
      "OK, csv_split_char is updated.\n",
      "OK, encoder is updated.\n",
      "OK, n_epoch is updated.\n",
      "OK, table_header is updated.\n"
     ]
    }
   ],
   "source": [
    "sqlExecutor = SqlExecutor()\n",
    "sqlExecutor.execute(\"set csv_split_char='|'\")\n",
    "sqlExecutor.execute(\"set encoder='embedding'\")\n",
    "sqlExecutor.execute(\"set n_epoch=20\")\n",
    "sqlExecutor.execute(\n",
    "    \"set table_header=\"\n",
    "    + \"'ss_sold_date_sk|ss_sold_time_sk|ss_item_sk|ss_customer_sk|ss_cdemo_sk|ss_hdemo_sk|\"\n",
    "    + \"ss_addr_sk|ss_store_sk|ss_promo_sk|ss_ticket_number|ss_quantity|ss_wholesale_cost|\"\n",
    "    + \"ss_list_price|ss_sales_price|ss_ext_discount_amt|ss_ext_sales_price|\"\n",
    "    + \"ss_ext_wholesale_cost|ss_ext_list_price|ss_ext_tax|ss_coupon_amt|ss_net_paid|\"\n",
    "    + \"ss_net_paid_inc_tax|ss_net_profit|none'\"\n",
    ")"
   ]
  },
  {
   "cell_type": "markdown",
   "id": "earlier-infection",
   "metadata": {},
   "source": [
    "## Model Creation"
   ]
  },
  {
   "cell_type": "code",
   "execution_count": null,
   "id": "local-appliance",
   "metadata": {},
   "outputs": [
    {
     "name": "stdout",
     "output_type": "stream",
     "text": [
      "Start creating model template2\n",
      "The given table is treated as a uniform sample, and it is obtained with sampling rate 0.000695\n",
      "Reading data file...\n",
      "get frequency info from data....\n",
      "fit MdnQueryEngineXCategoricalOneModel...\n",
      "training density...\n",
      "finish training embedding.\n",
      "< Epoch 0\n",
      "< Epoch 1\n",
      "< Epoch 2\n",
      "< Epoch 3\n",
      "< Epoch 4\n",
      "< Epoch 5\n",
      "< Epoch 6\n",
      "< Epoch 7\n",
      "< Epoch 8\n",
      "< Epoch 9\n",
      "< Epoch 10\n",
      "< Epoch 11\n",
      "< Epoch 12\n",
      "< Epoch 13\n",
      "< Epoch 14\n",
      "< Epoch 15\n",
      "< Epoch 16\n",
      "< Epoch 17\n",
      "< Epoch 18\n",
      "< Epoch 19\n",
      "finish mdn training...\n",
      "training regression...\n",
      "finish training embedding.\n",
      "embedding inference...\n",
      "start normalizing data...\n",
      "transform data for MDN training...\n",
      "finish transforming data from MDN training...\n",
      "< Epoch 0\n",
      "< Epoch 1\n",
      "< Epoch 2\n",
      "< Epoch 3\n",
      "< Epoch 4\n",
      "< Epoch 5\n",
      "< Epoch 6\n",
      "< Epoch 7\n",
      "< Epoch 8\n",
      "< Epoch 9\n"
     ]
    }
   ],
   "source": [
    "# sqlExecutor.execute(\"drop table template2\")  # drop the model\n",
    "sqlExecutor.execute(\n",
    "    \"create table template2(ss_sales_price real, ss_sold_date_sk real, ss_coupon_amt categorical) from '/home/quincy/Documents/workspace/data/tpcds/1t/ss_1m.csv' GROUP BY ss_store_sk method uniform size 0.0003472\"\n",
    ")"
   ]
  },
  {
   "cell_type": "markdown",
   "id": "substantial-treaty",
   "metadata": {},
   "source": [
    "## Query Serving"
   ]
  },
  {
   "cell_type": "code",
   "execution_count": null,
   "id": "collected-large",
   "metadata": {},
   "outputs": [],
   "source": [
    "predictions = sqlExecutor.execute(\n",
    "            \"select ss_store_sk, avg(ss_sales_price)  from template2 where   2451119  <=ss_sold_date_sk<= 2451483 and ss_coupon_amt=\"0\" group by ss_store_sk\"\n",
    "        )\n",
    "\n",
    "# sqlExecutor.execute(\"drop table template2\")"
   ]
  },
  {
   "cell_type": "markdown",
   "id": "frozen-plumbing",
   "metadata": {},
   "source": [
    "## HIVE query\n",
    "select ss_store_sk, count(ss_sales_price),sum(ss_sales_price),avg(ss_sales_price)  from store_sales_1t where  ss_sold_date_sk BETWEEN 2451119  AND 2451483  AND ss_coupon_amt=0 group by ss_store_sk"
   ]
  },
  {
   "cell_type": "raw",
   "id": "postal-finder",
   "metadata": {},
   "source": [
    "Time cost:"
   ]
  },
  {
   "cell_type": "raw",
   "id": "eligible-patio",
   "metadata": {},
   "source": []
  }
 ],
 "metadata": {
  "kernelspec": {
   "display_name": "Python 3",
   "language": "python",
   "name": "python3"
  },
  "language_info": {
   "codemirror_mode": {
    "name": "ipython",
    "version": 3
   },
   "file_extension": ".py",
   "mimetype": "text/x-python",
   "name": "python",
   "nbconvert_exporter": "python",
   "pygments_lexer": "ipython3",
   "version": "3.7.9"
  }
 },
 "nbformat": 4,
 "nbformat_minor": 5
}
