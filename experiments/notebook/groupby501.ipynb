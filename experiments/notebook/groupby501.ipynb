{
 "cells": [
  {
   "cell_type": "code",
   "execution_count": 1,
   "metadata": {},
   "outputs": [
    {
     "name": "stdout",
     "output_type": "stream",
     "text": [
      "start loading pre-existing models.\n",
      "Loaded 1 models.\n"
     ]
    }
   ],
   "source": [
    "from dbestclient.executor.executor import SqlExecutor\n",
    "config = {\n",
    "        'warehousedir': '/home/u1796377/Programs/dbestwarehouse',\n",
    "        'verbose': 'True',\n",
    "        'b_show_latency': 'True',\n",
    "        'backend_server': 'None',\n",
    "        'csv_split_char': '|',\n",
    "        \"epsabs\": 10.0,\n",
    "        \"epsrel\": 0.1,\n",
    "        \"mesh_grid_num\": 20,\n",
    "        \"limit\": 30,\n",
    "        # \"b_reg_mean\":'True',\n",
    "        \"num_epoch\": 400,\n",
    "        \"reg_type\": \"mdn\",\n",
    "        \"density_type\": \"mdn\",\n",
    "        \"num_gaussians\": 4,\n",
    "    }\n",
    "sqlExecutor = SqlExecutor(config)\n",
    "sqlExecutor.set_table_headers(\"ss_sold_date_sk,ss_sold_time_sk,ss_item_sk,ss_customer_sk,ss_cdemo_sk,ss_hdemo_sk,\" +\n",
    "                              \"ss_addr_sk,ss_store_sk,ss_promo_sk,ss_ticket_number,ss_quantity,ss_wholesale_cost,\" +\n",
    "                              \"ss_list_price,ss_sales_price,ss_ext_discount_amt,ss_ext_sales_price,\" +\n",
    "                              \"ss_ext_wholesale_cost,ss_ext_list_price,ss_ext_tax,ss_coupon_amt,ss_net_paid,\" +\n",
    "                              \"ss_net_paid_inc_tax,ss_net_profit,none\")"
   ]
  },
  {
   "cell_type": "code",
   "execution_count": null,
   "metadata": {},
   "outputs": [
    {
     "name": "stdout",
     "output_type": "stream",
     "text": [
      "Start creating model ss1t_gg4\n",
      "Training network 0 for group ['', '1', '2', '4', '7', '8', '10', '13', '14', '16', '19', '20', '22', '25', '26', '28', '31', '32', '34', '37', '38', '40', '43', '44', '46', '49', '50', '52', '55', '56', '58', '61', '62', '64', '67', '68', '70', '73', '74', '76', '79', '80', '82', '85', '86', '88', '91', '92', '94', '97', '98', '100', '103', '104', '106', '109', '110', '112', '115', '116', '118', '121', '122', '124', '127', '128', '130', '133', '134', '136', '139', '140', '142', '145', '146', '148', '151', '152', '154', '157', '158', '160', '163', '164', '166', '169', '170', '172', '175', '176', '178', '181', '182', '184', '187', '188', '190', '193', '194', '196', '199', '200', '202', '205', '206', '208', '211', '212', '214', '217', '218', '220', '223', '224', '226', '229', '230', '232', '235', '236', '238', '241', '242', '244', '247', '248', '250']\n",
      "Starting training kde models for model ss1t_gg4\n",
      "training regression...\n",
      "Grid search for parameter set : {'epoch': 5, 'lr': 0.001, 'node': 5, 'hidden': 1, 'gaussian': 3}\n",
      "< Epoch 0\n",
      "< Epoch 1\n",
      "< Epoch 2\n"
     ]
    }
   ],
   "source": [
    "sqlExecutor.execute(\n",
    "        \"create table ss1t_gg4(ss_sales_price real, ss_sold_date_sk real) from '/data/tpcds/1t/ss_5m.csv' GROUP BY ss_store_sk method uniform size 5000000\", n_mdn_layer_node=8, b_one_hot_encoding=True, b_grid_search=True, device='cpu', b_use_gg=True, n_per_gg=127)"
   ]
  }
 ],
 "metadata": {
  "kernelspec": {
   "display_name": "Python 3",
   "language": "python",
   "name": "python3"
  },
  "language_info": {
   "codemirror_mode": {
    "name": "ipython",
    "version": 3
   },
   "file_extension": ".py",
   "mimetype": "text/x-python",
   "name": "python",
   "nbconvert_exporter": "python",
   "pygments_lexer": "ipython3",
   "version": "3.7.6"
  }
 },
 "nbformat": 4,
 "nbformat_minor": 4
}
