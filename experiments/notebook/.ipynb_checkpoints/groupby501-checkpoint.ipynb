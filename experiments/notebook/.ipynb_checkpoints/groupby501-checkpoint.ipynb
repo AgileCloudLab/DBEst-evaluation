{
 "cells": [
  {
   "cell_type": "code",
   "execution_count": 1,
   "metadata": {},
   "outputs": [],
   "source": [
    "from dbestclient.executor.executor import SqlExecutor\n",
    "config = {\n",
    "        'warehousedir': '/home/u1796377/Programs/dbestwarehouse',\n",
    "        'verbose': 'True',\n",
    "        'b_show_latency': 'True',\n",
    "        'backend_server': 'None',\n",
    "        'csv_split_char': '|',\n",
    "        \"epsabs\": 10.0,\n",
    "        \"epsrel\": 0.1,\n",
    "        \"mesh_grid_num\": 20,\n",
    "        \"limit\": 30,\n",
    "        # \"b_reg_mean\":'True',\n",
    "        \"num_epoch\": 400,\n",
    "        \"reg_type\": \"mdn\",\n",
    "        \"density_type\": \"mdn\",\n",
    "        \"num_gaussians\": 4,\n",
    "    }\n",
    "sqlExecutor = SqlExecutor(config)\n",
    "sqlExecutor.set_table_headers(\"ss_sold_date_sk,ss_sold_time_sk,ss_item_sk,ss_customer_sk,ss_cdemo_sk,ss_hdemo_sk,\" +\n",
    "                              \"ss_addr_sk,ss_store_sk,ss_promo_sk,ss_ticket_number,ss_quantity,ss_wholesale_cost,\" +\n",
    "                              \"ss_list_price,ss_sales_price,ss_ext_discount_amt,ss_ext_sales_price,\" +\n",
    "                              \"ss_ext_wholesale_cost,ss_ext_list_price,ss_ext_tax,ss_coupon_amt,ss_net_paid,\" +\n",
    "                              \"ss_net_paid_inc_tax,ss_net_profit,none\")"
   ]
  },
  {
   "cell_type": "code",
   "execution_count": 2,
   "metadata": {},
   "outputs": [
    {
     "name": "stdout",
     "output_type": "stream",
     "text": [
      "Start creating model ss1t_gg4\n",
      "Training network 0 for group ['', '1', '2', '4', '7', '8', '10', '13', '14', '16', '19', '20', '22', '25', '26', '28', '31', '32', '34', '37', '38', '40', '43', '44', '46', '49', '50', '52', '55', '56', '58', '61', '62', '64', '67', '68', '70', '73', '74', '76', '79', '80', '82', '85', '86', '88', '91', '92', '94', '97', '98', '100', '103', '104', '106', '109', '110', '112', '115', '116', '118', '121', '122', '124', '127', '128', '130', '133', '134', '136', '139', '140', '142', '145', '146', '148', '151', '152', '154', '157', '158', '160', '163', '164', '166', '169', '170', '172', '175', '176', '178', '181', '182', '184', '187', '188', '190', '193', '194', '196', '199', '200', '202', '205', '206', '208', '211', '212', '214', '217', '218', '220', '223', '224', '226', '229', '230', '232', '235', '236', '238', '241', '242', '244', '247', '248', '250']\n"
     ]
    },
    {
     "ename": "ValueError",
     "evalue": "unexpected device type.",
     "output_type": "error",
     "traceback": [
      "\u001b[0;31m---------------------------------------------------------------------------\u001b[0m",
      "\u001b[0;31mValueError\u001b[0m                                Traceback (most recent call last)",
      "\u001b[0;32m<ipython-input-2-e609e4ad291d>\u001b[0m in \u001b[0;36m<module>\u001b[0;34m\u001b[0m\n\u001b[1;32m      1\u001b[0m sqlExecutor.execute(\n\u001b[0;32m----> 2\u001b[0;31m         \"create table ss1t_gg4(ss_sales_price real, ss_sold_date_sk real) from '/data/tpcds/1t/ss_5m.csv' GROUP BY ss_store_sk method uniform size 5000000\", n_mdn_layer_node=8, b_one_hot_encoding=True, b_grid_search=True, device='cpu', b_use_gg=True, n_per_gg=127)\n\u001b[0m",
      "\u001b[0;32m~/project/DBEstClient/dbestclient/executor/executor.py\u001b[0m in \u001b[0;36mexecute\u001b[0;34m(self, sql, n_per_gg, result2file, n_mdn_layer_node, b_one_hot_encoding, n_jobs, b_grid_search, b_use_gg, device)\u001b[0m\n\u001b[1;32m    234\u001b[0m                                                                                                             \u001b[0mn_mdn_layer_node\u001b[0m\u001b[0;34m=\u001b[0m\u001b[0mn_mdn_layer_node\u001b[0m\u001b[0;34m,\u001b[0m\u001b[0;34m\u001b[0m\u001b[0;34m\u001b[0m\u001b[0m\n\u001b[1;32m    235\u001b[0m                                                                                                             \u001b[0mb_one_hot_encoding\u001b[0m\u001b[0;34m=\u001b[0m\u001b[0mb_one_hot_encoding\u001b[0m\u001b[0;34m,\u001b[0m\u001b[0;34m\u001b[0m\u001b[0;34m\u001b[0m\u001b[0m\n\u001b[0;32m--> 236\u001b[0;31m                                                                                                             b_grid_search=b_grid_search)\n\u001b[0m\u001b[1;32m    237\u001b[0m \u001b[0;34m\u001b[0m\u001b[0m\n\u001b[1;32m    238\u001b[0m                             self.model_catalog.add_model_wrapper(\n",
      "\u001b[0;32m~/project/DBEstClient/dbestclient/executor/queryenginemdn.py\u001b[0m in \u001b[0;36mfit\u001b[0;34m(self, df, groupby_attribute, n_total_point, mdl, tbl, xheader, yheader, n_per_group, n_mdn_layer_node, b_one_hot_encoding, b_grid_search)\u001b[0m\n\u001b[1;32m    306\u001b[0m                                               \u001b[0mgroupby_values\u001b[0m\u001b[0;34m=\u001b[0m\u001b[0mchunk_key\u001b[0m\u001b[0;34m,\u001b[0m\u001b[0;34m\u001b[0m\u001b[0;34m\u001b[0m\u001b[0m\n\u001b[1;32m    307\u001b[0m                                               \u001b[0mn_total_point\u001b[0m\u001b[0;34m=\u001b[0m\u001b[0mn_total_point_chunk\u001b[0m\u001b[0;34m,\u001b[0m \u001b[0mn_sample_point\u001b[0m\u001b[0;34m=\u001b[0m\u001b[0;34m{\u001b[0m\u001b[0;34m}\u001b[0m\u001b[0;34m,\u001b[0m\u001b[0;34m\u001b[0m\u001b[0;34m\u001b[0m\u001b[0m\n\u001b[0;32m--> 308\u001b[0;31m                                               \u001b[0mx_min_value\u001b[0m\u001b[0;34m=\u001b[0m\u001b[0;34m-\u001b[0m\u001b[0mnp\u001b[0m\u001b[0;34m.\u001b[0m\u001b[0minf\u001b[0m\u001b[0;34m,\u001b[0m \u001b[0mx_max_value\u001b[0m\u001b[0;34m=\u001b[0m\u001b[0mnp\u001b[0m\u001b[0;34m.\u001b[0m\u001b[0minf\u001b[0m\u001b[0;34m,\u001b[0m \u001b[0mconfig\u001b[0m\u001b[0;34m=\u001b[0m\u001b[0mself\u001b[0m\u001b[0;34m.\u001b[0m\u001b[0mconfig\u001b[0m\u001b[0;34m,\u001b[0m \u001b[0mdevice\u001b[0m\u001b[0;34m=\u001b[0m\u001b[0mself\u001b[0m\u001b[0;34m.\u001b[0m\u001b[0mdevice\u001b[0m\u001b[0;34m)\u001b[0m\u001b[0;34m.\u001b[0m\u001b[0mfit_from_df\u001b[0m\u001b[0;34m(\u001b[0m\u001b[0;34m\u001b[0m\u001b[0;34m\u001b[0m\u001b[0m\n\u001b[0m\u001b[1;32m    309\u001b[0m                 \u001b[0mchunk_group\u001b[0m\u001b[0;34m,\u001b[0m \u001b[0mnetwork_size\u001b[0m\u001b[0;34m=\u001b[0m\u001b[0;34m\"small\"\u001b[0m\u001b[0;34m,\u001b[0m \u001b[0mn_mdn_layer_node\u001b[0m\u001b[0;34m=\u001b[0m\u001b[0mn_mdn_layer_node\u001b[0m\u001b[0;34m,\u001b[0m\u001b[0;34m\u001b[0m\u001b[0;34m\u001b[0m\u001b[0m\n\u001b[1;32m    310\u001b[0m                 b_one_hot_encoding=b_one_hot_encoding, b_grid_search=b_grid_search)\n",
      "\u001b[0;32m~/project/DBEstClient/dbestclient/ml/modeltrainer.py\u001b[0m in \u001b[0;36m__init__\u001b[0;34m(self, mdl, tbl, xheader, yheader, groupby_attribute, groupby_values, n_total_point, n_sample_point, x_min_value, x_max_value, config, device)\u001b[0m\n\u001b[1;32m     95\u001b[0m \u001b[0;34m\u001b[0m\u001b[0m\n\u001b[1;32m     96\u001b[0m         \u001b[0;32mif\u001b[0m \u001b[0mdevice\u001b[0m\u001b[0;34m.\u001b[0m\u001b[0mlower\u001b[0m\u001b[0;34m(\u001b[0m\u001b[0;34m)\u001b[0m \u001b[0;32mnot\u001b[0m \u001b[0;32min\u001b[0m \u001b[0;34m(\u001b[0m\u001b[0;34m\"cup\"\u001b[0m\u001b[0;34m,\u001b[0m \u001b[0;34m\"gpu\"\u001b[0m\u001b[0;34m)\u001b[0m\u001b[0;34m:\u001b[0m\u001b[0;34m\u001b[0m\u001b[0;34m\u001b[0m\u001b[0m\n\u001b[0;32m---> 97\u001b[0;31m             \u001b[0;32mraise\u001b[0m \u001b[0mValueError\u001b[0m\u001b[0;34m(\u001b[0m\u001b[0;34m\"unexpected device type.\"\u001b[0m\u001b[0;34m)\u001b[0m\u001b[0;34m\u001b[0m\u001b[0;34m\u001b[0m\u001b[0m\n\u001b[0m\u001b[1;32m     98\u001b[0m         \u001b[0;32mif\u001b[0m \u001b[0mdevice\u001b[0m\u001b[0;34m.\u001b[0m\u001b[0mlower\u001b[0m\u001b[0;34m(\u001b[0m\u001b[0;34m)\u001b[0m \u001b[0;34m==\u001b[0m \u001b[0;34m\"cpu\"\u001b[0m\u001b[0;34m:\u001b[0m\u001b[0;34m\u001b[0m\u001b[0;34m\u001b[0m\u001b[0m\n\u001b[1;32m     99\u001b[0m             \u001b[0;31m# DEVICE = torch.device(\"cuda:0\" if torch.cuda.is_available() else \"cpu\")\u001b[0m\u001b[0;34m\u001b[0m\u001b[0;34m\u001b[0m\u001b[0;34m\u001b[0m\u001b[0m\n",
      "\u001b[0;31mValueError\u001b[0m: unexpected device type."
     ]
    }
   ],
   "source": [
    "sqlExecutor.execute(\n",
    "        \"create table ss1t_gg4(ss_sales_price real, ss_sold_date_sk real) from '/data/tpcds/1t/ss_5m.csv' GROUP BY ss_store_sk method uniform size 5000000\", n_mdn_layer_node=8, b_one_hot_encoding=True, b_grid_search=True, device='cpu', b_use_gg=True, n_per_gg=127)"
   ]
  }
 ],
 "metadata": {
  "kernelspec": {
   "display_name": "Python 3",
   "language": "python",
   "name": "python3"
  },
  "language_info": {
   "codemirror_mode": {
    "name": "ipython",
    "version": 3
   },
   "file_extension": ".py",
   "mimetype": "text/x-python",
   "name": "python",
   "nbconvert_exporter": "python",
   "pygments_lexer": "ipython3",
   "version": "3.7.6"
  }
 },
 "nbformat": 4,
 "nbformat_minor": 4
}
